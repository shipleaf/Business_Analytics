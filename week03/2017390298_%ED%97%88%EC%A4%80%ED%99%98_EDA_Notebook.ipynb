
# EDA for Employee Attrition Data - 허준환 (2017390298)

## Introduction
This Jupyter Notebook performs exploratory data analysis (EDA) on an employee attrition dataset. The objective is to uncover patterns and insights that may explain employee attrition.

## Data Overview
We are analyzing the following features:
- Employee demographics (Age, Education, etc.)
- Job-related attributes (JobRole, Department, etc.)
- Attrition status (whether an employee left or stayed)

## EDA Findings

### Attrition Distribution
The attrition rate shows a clear imbalance, with more employees staying in the company than leaving.

### Age and Attrition
From the analysis, younger employees have a slightly higher tendency to leave the organization, but there are older employees leaving as well.

### Correlation Heatmap
The heatmap revealed strong correlations between factors like "YearsAtCompany" and "TotalWorkingYears," indicating experience plays a role in company retention.
